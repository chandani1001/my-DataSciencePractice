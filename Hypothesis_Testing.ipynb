{
  "nbformat": 4,
  "nbformat_minor": 0,
  "metadata": {
    "colab": {
      "provenance": [],
      "authorship_tag": "ABX9TyMXaPjhceAU60aD8+mmo+DY",
      "include_colab_link": true
    },
    "kernelspec": {
      "name": "python3",
      "display_name": "Python 3"
    },
    "language_info": {
      "name": "python"
    }
  },
  "cells": [
    {
      "cell_type": "markdown",
      "metadata": {
        "id": "view-in-github",
        "colab_type": "text"
      },
      "source": [
        "<a href=\"https://colab.research.google.com/github/chandani1001/my-DataSciencePractice/blob/main/Hypothesis_Testing.ipynb\" target=\"_parent\"><img src=\"https://colab.research.google.com/assets/colab-badge.svg\" alt=\"Open In Colab\"/></a>"
      ]
    },
    {
      "cell_type": "markdown",
      "source": [
        "# Hypothesis Testing\n",
        "let a condition\n",
        "Medicine-A : controls the pain in 3 hr\n",
        "Medicine-B : controls the pain in 1 hr\n",
        "\n",
        "we can not introduce this medicine B in market unless we check it works better than the medicine A\n",
        "this process is called hypothesis testing."
      ],
      "metadata": {
        "id": "vJhtZ37AVnmY"
      }
    },
    {
      "cell_type": "markdown",
      "source": [
        "**Ex**\n",
        "Food company also do hypothesis testing to check hte quality of their products.\n",
        "\n",
        "Website reach also is checked by this"
      ],
      "metadata": {
        "id": "w_a4hT0iW5eS"
      }
    },
    {
      "cell_type": "markdown",
      "source": [
        "comparatively check garne ho kun walah best ho , past walh ki new walah for this we use hypothesis testing ."
      ],
      "metadata": {
        "id": "0vPHbQraXgw5"
      }
    },
    {
      "cell_type": "markdown",
      "source": [
        "# Defn:\n",
        "It is a part of statistical analysis, where we test the assumptions made regarding a population parameter.\n",
        "\n",
        "It is generally used when we were to compare a single group with an external standard and two or more groups with each other."
      ],
      "metadata": {
        "id": "s-Kw9uARZk8-"
      }
    },
    {
      "cell_type": "markdown",
      "source": [
        "# Terminology used in hypothesis testing:\n"
      ],
      "metadata": {
        "id": "KUaSCIr7aTtM"
      }
    },
    {
      "cell_type": "markdown",
      "source": [
        "# 1. Null Hypothesis:\n",
        "       Null hypothesis is a statistical theory that suggest there is no statistical significance exists between the populations.It is denoted by H0 and read as H-naught.\n",
        "       eg: A=B ,A>=B,A<=B"
      ],
      "metadata": {
        "id": "wNjZYyddaeBE"
      }
    },
    {
      "cell_type": "markdown",
      "source": [
        "# 2. Alternative Hypothesis:\n",
        "    An Alternative hypothesis suggests there is a significance difference between the population parameters. It could be greater or smaller . Basically, it is the contrast of the Null Hypothesis. It is denoted by Ha.\n",
        "\n",
        "    A<B, A>B, A is not equal to B"
      ],
      "metadata": {
        "id": "oEpLQRnodTOk"
      }
    },
    {
      "cell_type": "markdown",
      "source": [
        "# Hypothesis testing\n",
        "\n",
        "1.   Z-Test: Avg xa vane use garne\n",
        "2.   T-Test: Avg xa vane use garne\n",
        "3.   Chi- Square Test\n",
        "         \n",
        "\n",
        "*  3.1 goodness: perfect xa ki nai\n",
        "*  3.2 independence:to check relation between two things\n",
        "\n",
        "\n",
        "all works on sample data not works on sample data\n",
        "\n",
        "all works on different situation.\n",
        "\n"
      ],
      "metadata": {
        "id": "l7aISS82nono"
      }
    },
    {
      "cell_type": "markdown",
      "source": [
        "# Steps of hypothesis testing"
      ],
      "metadata": {
        "id": "iGd_cHnYuY_2"
      }
    },
    {
      "cell_type": "markdown",
      "source": [
        "\n",
        "\n",
        "*   state null(H0) and alternative(H1) hypothesis\n",
        "*   choose level of significance(a)\n",
        "*   Find critical values\n",
        "*   find test statistic\n",
        "*   Draw your conclusion\n",
        "\n",
        "\n",
        "\n",
        "\n"
      ],
      "metadata": {
        "id": "cXjmj2poAR8p"
      }
    },
    {
      "cell_type": "markdown",
      "source": [
        "**1. state null(H0) and alternative(H1) hypothesis:**\n",
        "\n",
        "H0 must always contain equality(=). H1 always contains difference(=/,>,<)."
      ],
      "metadata": {
        "id": "BpPaLi5OBQOZ"
      }
    },
    {
      "cell_type": "markdown",
      "source": [
        "**2.choose level of significance(a-alpha):**\n",
        "it is a fixed probability of wrongly rejecting a true null hypothesis\n",
        "\n",
        ",here we consider the alpha(a=0.05)\n",
        "confidence interval ranges from 1-5% or depends upon domain.\n",
        "alpha(a=0.05)  its makes the area,when it falls under H0 ->  product A&B are not different\n",
        "but when the alpha(a) falls under H1 A&B are diffrenet.\n",
        "\n",
        "its of 3 types:\n",
        "\n",
        "1.   left tailed:-we select this when new product B is bad compared to old product A, area=a\n",
        "2.   Right tailed:-left part is H0 & right part is H1, it says new product is better i.e. B>A,  area=a\n",
        "\n",
        "3.   two-Tailed:-  area=a/2 as it is on both side of graph. we use this when says 2 products are not equal or says nothing. non directional,\n",
        "\n",
        "\n",
        "\n"
      ],
      "metadata": {
        "id": "RetIRI0lBsD4"
      }
    },
    {
      "cell_type": "markdown",
      "source": [
        "**3.find test statistic**\n",
        "\n",
        "\n",
        "1.   Z-test: we choose this when it comes to average: use this when given, popln mean & std, and sample>=30, also take the sample data mean only\n",
        "\n",
        "2.   T-test:  we choose this when it comes to average:given:- poplnmean, sample std, sample<30, sample mean\n",
        "\n",
        "2.   Chi-test:goodness check garda use garxa\n",
        "\n"
      ],
      "metadata": {
        "id": "U93nKbaNKpSa"
      }
    },
    {
      "cell_type": "markdown",
      "source": [
        "**4.Find critical values**\n",
        "test find then find critical value ie. z-value, t-value then come on conclusion.\n",
        "\n",
        " **5.Draw your conclusion**\n",
        " if H0 is right or H1 is right?"
      ],
      "metadata": {
        "id": "FOqMZ8VyN2ap"
      }
    },
    {
      "cell_type": "code",
      "source": [],
      "metadata": {
        "id": "HdPlNca8PBxJ"
      },
      "execution_count": null,
      "outputs": []
    },
    {
      "cell_type": "code",
      "execution_count": null,
      "metadata": {
        "id": "ieRrB6bPVVsr"
      },
      "outputs": [],
      "source": []
    }
  ]
}