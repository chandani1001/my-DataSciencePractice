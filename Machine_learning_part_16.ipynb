{
  "nbformat": 4,
  "nbformat_minor": 0,
  "metadata": {
    "colab": {
      "provenance": [],
      "authorship_tag": "ABX9TyNo87m/V4pgo4rM0oKJNBjK",
      "include_colab_link": true
    },
    "kernelspec": {
      "name": "python3",
      "display_name": "Python 3"
    },
    "language_info": {
      "name": "python"
    }
  },
  "cells": [
    {
      "cell_type": "markdown",
      "metadata": {
        "id": "view-in-github",
        "colab_type": "text"
      },
      "source": [
        "<a href=\"https://colab.research.google.com/github/chandani1001/my-DataSciencePractice/blob/main/Machine_learning_part_16.ipynb\" target=\"_parent\"><img src=\"https://colab.research.google.com/assets/colab-badge.svg\" alt=\"Open In Colab\"/></a>"
      ]
    },
    {
      "cell_type": "markdown",
      "source": [
        "# How does MAchine learning Work?\n",
        "A machine learning system learns from historical data, builds the prediction models, and whenever it receives new data, predicts the output for it.\n",
        "\n",
        "input past data(training)--> machine learning algo(learn from data)-->building logical models--->(new data)output"
      ],
      "metadata": {
        "id": "3OACUqU1J5yH"
      }
    },
    {
      "cell_type": "markdown",
      "source": [
        "Data(input)+Program-->Traditional Programming----->output\n",
        "\n",
        "Data(input)+output--> Machine Learning ---->Program\n",
        "\n"
      ],
      "metadata": {
        "id": "WrWaGouVM-Zu"
      }
    },
    {
      "cell_type": "markdown",
      "source": [
        "# Classification of machine learning\n",
        "\n",
        "\n",
        "*   Supervised learning--used for future prediction(price prediction), recommendation system,classification\n",
        "\n",
        "*   Unsupervised learning--groupism\n",
        "*   Reinforcement Learning\n",
        "\n",
        "\n",
        "\n"
      ],
      "metadata": {
        "id": "-avwFUUvPrid"
      }
    },
    {
      "cell_type": "markdown",
      "source": [
        "# Advantage of Machine Learning\n"
      ],
      "metadata": {
        "id": "JzMOnREfSU-u"
      }
    },
    {
      "cell_type": "markdown",
      "source": [
        "\n",
        "\n",
        "1.   Easily identifies trends and patterns\n",
        "2.   No human intervention needed(automation)\n",
        "3.   Continous Improvement\n",
        "4.   Handling multi-dimensional and multi-variety data\n",
        "5.   Wide Applications\n",
        "\n"
      ],
      "metadata": {
        "id": "LtUf7R6zP6Qs"
      }
    },
    {
      "cell_type": "markdown",
      "source": [
        "# Disadvantage of Machine learning\n",
        "\n",
        "\n",
        "1.   Data Acquisition\n",
        "2.   Time and Resouces\n",
        "3.   Interpretation of Results\n",
        "4.   High error-susceptibility\n",
        "\n"
      ],
      "metadata": {
        "id": "KbUl-6CTRdGH"
      }
    },
    {
      "cell_type": "markdown",
      "source": [
        "# Use of Machine Learning\n",
        "\n",
        "\n",
        "*   Automatic language Translation\n",
        "*   Medical Diagnosis\n",
        "*   Stock Market trading\n",
        "*   Online Fraud Detection\n",
        "*   Virtual Personal Assistant\n",
        "*   Email Span & Malware Filtering\n",
        "*   Self driving cars\n",
        "*   Product recommendations\n",
        "*   Traffic Prediction\n",
        "*   Speech Recognition\n",
        "*   Image Recognition\n",
        "\n",
        "\n",
        "\n",
        "\n",
        "\n",
        "\n",
        "\n",
        "\n"
      ],
      "metadata": {
        "id": "-U5j6aQZSn9G"
      }
    },
    {
      "cell_type": "markdown",
      "source": [
        "# Knowledge Need\n",
        "\n",
        "-Numpy\n",
        "\n",
        "-Pandas\n",
        "\n",
        "-Matplotlib\n",
        "\n",
        "-scikitlearn\n",
        "\n",
        "-scipy\n",
        "\n",
        "-seanorn\n",
        "\n",
        "-tensorflow-for deep Learning\n",
        "\n",
        "-NLTK- NaturalLanguage Toolkit\n",
        "\n",
        "-openCV-for image"
      ],
      "metadata": {
        "id": "-vSlkUM4qUH6"
      }
    },
    {
      "cell_type": "markdown",
      "source": [
        "# types of variable\n",
        "\n",
        "\n",
        "\n",
        "1.   Numerical\n",
        "     \n",
        "*   Discrete-eg numbers, 12, 12.2\n",
        "*   Continous-eg 20-30\n",
        "\n",
        "\n",
        "2.   Categorical\n",
        "     \n",
        "\n",
        "*   Ordinal-follows a order, like good & bad etc\n",
        "*   Nominal- which has no interconnection\n",
        "\n",
        "\n",
        "3.   Dates & Times-date only & time only\n",
        "4.   Mixed-contains both numbers & categorical data.\n",
        "eg: 3+ is a mixed variable (object data)\n",
        "\n"
      ],
      "metadata": {
        "id": "G_0LtwL5xYYU"
      }
    },
    {
      "cell_type": "code",
      "execution_count": null,
      "metadata": {
        "id": "RmvZD1F8XQhG"
      },
      "outputs": [],
      "source": []
    }
  ]
}