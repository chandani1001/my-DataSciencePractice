{
  "nbformat": 4,
  "nbformat_minor": 0,
  "metadata": {
    "colab": {
      "provenance": [],
      "authorship_tag": "ABX9TyPigxdBpCqRcJv0JnluCPJl",
      "include_colab_link": true
    },
    "kernelspec": {
      "name": "python3",
      "display_name": "Python 3"
    },
    "language_info": {
      "name": "python"
    }
  },
  "cells": [
    {
      "cell_type": "markdown",
      "metadata": {
        "id": "view-in-github",
        "colab_type": "text"
      },
      "source": [
        "<a href=\"https://colab.research.google.com/github/chandani1001/my-DataSciencePractice/blob/main/Z_%26_T_testing.ipynb\" target=\"_parent\"><img src=\"https://colab.research.google.com/assets/colab-badge.svg\" alt=\"Open In Colab\"/></a>"
      ]
    },
    {
      "cell_type": "markdown",
      "source": [
        "# Hypothesis Testing(ZTest)"
      ],
      "metadata": {
        "id": "AI67D9Q9P-lC"
      }
    },
    {
      "cell_type": "markdown",
      "source": [
        "**example1:**\n",
        "\n",
        "Ateacher claims that the mean scrore of student in his class is greater than 82 with a standard deviation of 20 . if a sample of 81 students was selected with a mean score of 90.\n",
        "\n",
        "this que satisfy the Z-test condition.\n",
        "\n",
        "explanation: population of N has mean >82 & std=20 but the sample of 81sts has mean=90\n",
        "\n",
        "to prove: if it says true through sample popukation.\n",
        " given:μ=82, σ=20, n=81,x̄=90\n",
        "\n",
        " formula:\n",
        " Ztest= (x̄-μ)/(σ/√n)\n",
        "\n",
        " x̄=Sample mean\n",
        " μ= Population mean\n",
        " σ= Population standard deviation\n",
        " n=Sample size\n",
        "\n",
        " soln:\n",
        " ist find H0, Ha\n",
        "\n",
        " says H0 , μ doesnot equal to 82\n",
        " Ha says, μ>82 right tailed normal distribution as\n",
        " says α=0.05\n",
        "\n",
        " i.e area of H0=0.95=1-0.05\n",
        " as area of Ha=0.05\n",
        " now we need to find z-value at 0.95\n",
        "\n",
        " get value from google.z-value= 1.645\n",
        "\n",
        " now z value acc to given data: Zcal=(x̄-μ)/(σ/√n)=(90-82)/(20/√81)=3.6\n",
        "\n",
        " 3.6>1.645 so lies in Ha area\n",
        "\n",
        " s\n",
        " so proved that teacher claim is correct."
      ],
      "metadata": {
        "id": "bnV0Di4vQEvp"
      }
    },
    {
      "cell_type": "markdown",
      "source": [
        "# Z-test using python"
      ],
      "metadata": {
        "id": "XGz9uxQfWifb"
      }
    },
    {
      "cell_type": "code",
      "execution_count": 8,
      "metadata": {
        "id": "3TeXNFNuPjWH"
      },
      "outputs": [],
      "source": [
        "import scipy.stats as st"
      ]
    },
    {
      "cell_type": "markdown",
      "source": [
        "by this method directly got the value of z"
      ],
      "metadata": {
        "id": "PllqT-V0XAYL"
      }
    },
    {
      "cell_type": "code",
      "source": [
        "st.norm.ppf(0.95)"
      ],
      "metadata": {
        "colab": {
          "base_uri": "https://localhost:8080/"
        },
        "id": "W-kCdZ2rWyYF",
        "outputId": "a67d5d50-373f-4b2f-d1eb-e8275e96abb9"
      },
      "execution_count": null,
      "outputs": [
        {
          "output_type": "execute_result",
          "data": {
            "text/plain": [
              "np.float64(1.6448536269514722)"
            ]
          },
          "metadata": {},
          "execution_count": 2
        }
      ]
    },
    {
      "cell_type": "code",
      "source": [
        "st.norm.ppf(1-0.05)"
      ],
      "metadata": {
        "colab": {
          "base_uri": "https://localhost:8080/"
        },
        "id": "cNpV421bW9i1",
        "outputId": "c5e877fa-2f0f-4cdb-9682-6aa65ca3027c"
      },
      "execution_count": null,
      "outputs": [
        {
          "output_type": "execute_result",
          "data": {
            "text/plain": [
              "np.float64(1.6448536269514722)"
            ]
          },
          "metadata": {},
          "execution_count": 3
        }
      ]
    },
    {
      "cell_type": "markdown",
      "source": [
        "lets solve the above question:\n"
      ],
      "metadata": {
        "id": "kJynkuZK3aE6"
      }
    },
    {
      "cell_type": "code",
      "source": [
        "s_x=90\n",
        "p_u=82\n",
        "p_std=20\n",
        "n=81\n",
        "ap=0.05"
      ],
      "metadata": {
        "id": "Qe5NhA7MXW3y"
      },
      "execution_count": 3,
      "outputs": []
    },
    {
      "cell_type": "code",
      "source": [
        "z_cal=(s_x-p_u)/(p_std/n**0.5)\n",
        "z_cal"
      ],
      "metadata": {
        "colab": {
          "base_uri": "https://localhost:8080/"
        },
        "id": "nb9TNXll34E6",
        "outputId": "d7fa082f-ab1f-497a-db76-d64cc462ccad"
      },
      "execution_count": 4,
      "outputs": [
        {
          "output_type": "execute_result",
          "data": {
            "text/plain": [
              "3.5999999999999996"
            ]
          },
          "metadata": {},
          "execution_count": 4
        }
      ]
    },
    {
      "cell_type": "code",
      "source": [
        "z_table=st.norm.ppf(1-ap)\n",
        "z_table"
      ],
      "metadata": {
        "colab": {
          "base_uri": "https://localhost:8080/"
        },
        "id": "wL7BbPcD4Jmd",
        "outputId": "771dcef7-0f68-4c41-d67e-b1a83a6f0386"
      },
      "execution_count": 9,
      "outputs": [
        {
          "output_type": "execute_result",
          "data": {
            "text/plain": [
              "np.float64(1.6448536269514722)"
            ]
          },
          "metadata": {},
          "execution_count": 9
        }
      ]
    },
    {
      "cell_type": "code",
      "source": [
        "if z_cal>z_table:\n",
        "    print(\"reject H0\")\n",
        "else:\n",
        "    print(\"accept H0\")"
      ],
      "metadata": {
        "colab": {
          "base_uri": "https://localhost:8080/"
        },
        "id": "A8Fkah194XbY",
        "outputId": "09a43b68-c960-43ec-ff14-2f2ffb178995"
      },
      "execution_count": 10,
      "outputs": [
        {
          "output_type": "stream",
          "name": "stdout",
          "text": [
            "reject H0\n"
          ]
        }
      ]
    },
    {
      "cell_type": "markdown",
      "source": [
        "got it"
      ],
      "metadata": {
        "id": "ys3Cub1H5gSf"
      }
    },
    {
      "cell_type": "markdown",
      "source": [
        "# example2:\n",
        "Scenario: Imagine you work for an e-commerce company, and your team is responsible for analyzing customer purchase data. You want to determine whether a new website design has led to a significant increase in the average purchase amount compared to the old design.\n",
        "\n",
        "Data: You have collected data from a random sample of 30 customers who made purchases on the old website design and 30 customers who made purchases on the new website design have the sample means, sample standard deviations, and sample sizes for both groups.\n",
        "\n",
        "Old design data = (45.2, 42.8, 38.9, 43.5, 41.0, 44.6, 40.5, 42.7, 39.8, 41.4, 44.3, 39,7 41.5, 39.6, 44.0, 43.1, 38.7, 43.9, 42.0, 41.9, 42.8, 43.7, 41.3, 40.9, 42.5, 41.5]\n",
        "\n",
        "New design data = [48.5, 49.1, 50.2, 47.8, 48.7, 49.9, 48.0, 50.5, 49.8, 49.6. 50.1, 48.6, 48.3, 49.0, 50.0, 48.4, 49.3, 49.5, 48.8, 50.6, 50.4, 48.1, 49.2, 50.7, 50\n",
        "\n",
        "Population std = 2.5\n",
        "\n"
      ],
      "metadata": {
        "id": "yTSGUs-x6_Dy"
      }
    },
    {
      "cell_type": "markdown",
      "source": [
        "h0 says webnew=webold\n",
        "ha says webnew>webold\n",
        "\n",
        "Ztest= (x̄-μ)/(σ/√n) , n>=30\n",
        "\n",
        "in the case when popn mean is not given & we know its a z-test , then we consider\n",
        "\n",
        "μ new= μ old\n",
        "\n",
        "x̄new, x̄old\n",
        "popln std=2.5\n",
        "n=30 now z- test\n",
        "\n",
        "this time formula change to\n",
        "formula:\n",
        "\n",
        "Ztest= (x̄new-x̄old)/(σ/√n)"
      ],
      "metadata": {
        "id": "miHE1cmm75_J"
      }
    },
    {
      "cell_type": "code",
      "source": [
        "import scipy.stats as st\n",
        "import numpy as np"
      ],
      "metadata": {
        "id": "VLn4svv45L7E"
      },
      "execution_count": 11,
      "outputs": []
    },
    {
      "cell_type": "code",
      "source": [
        "Old_design_data = np.array([45.2, 42.8, 38.9, 43.5, 41.0, 44.6, 40.5, 42.7, 39.8, 41.4, 44.3, 39.7, 41.5, 39.6, 44.0, 43.1, 38.7, 43.9, 42.0, 41.9, 42.8, 43.7, 41.3, 40.9, 42.5, 41.5])\n",
        "\n",
        "New_design_data = np.array([48.5, 49.1, 50.2, 47.8, 48.7, 49.9, 48.0, 50.5, 49.8, 49.6, 50.1, 48.6, 48.3, 49.0, 50.0, 48.4, 49.3, 49.5, 48.8, 50.6, 50.4, 48.1, 49.2, 50.7, 50.4, 40.5])"
      ],
      "metadata": {
        "id": "NxUUz0Dh9ulf"
      },
      "execution_count": 12,
      "outputs": []
    },
    {
      "cell_type": "code",
      "source": [
        "pop_std=2.5\n",
        "n_sp=len(New_design_data)\n",
        "apl=0.05"
      ],
      "metadata": {
        "id": "dvAxfqou_l3l"
      },
      "execution_count": 13,
      "outputs": []
    },
    {
      "cell_type": "code",
      "source": [
        "z_cal=(New_design_data.mean()-Old_design_data.mean())/(pop_std/n_sp**0.5)\n",
        "z_cal"
      ],
      "metadata": {
        "colab": {
          "base_uri": "https://localhost:8080/"
        },
        "id": "deunagsO_9Bj",
        "outputId": "350a7d78-e107-4552-b6cd-cd2541460eb6"
      },
      "execution_count": 14,
      "outputs": [
        {
          "output_type": "execute_result",
          "data": {
            "text/plain": [
              "np.float64(14.292943928870855)"
            ]
          },
          "metadata": {},
          "execution_count": 14
        }
      ]
    },
    {
      "cell_type": "code",
      "source": [
        "z_table=st.norm.ppf(1-ap)\n",
        "z_table"
      ],
      "metadata": {
        "colab": {
          "base_uri": "https://localhost:8080/"
        },
        "id": "h30xpRUMAHw7",
        "outputId": "44379a78-d4cc-4261-d528-abe452f1bf51"
      },
      "execution_count": 15,
      "outputs": [
        {
          "output_type": "execute_result",
          "data": {
            "text/plain": [
              "np.float64(1.6448536269514722)"
            ]
          },
          "metadata": {},
          "execution_count": 15
        }
      ]
    },
    {
      "cell_type": "code",
      "source": [
        "if z_cal>z_table:\n",
        "    print(\"accept Ha\")\n",
        "else:\n",
        "    print(\"accept H0\")"
      ],
      "metadata": {
        "colab": {
          "base_uri": "https://localhost:8080/"
        },
        "id": "v1cr33EqASYm",
        "outputId": "572c9349-cc43-4641-8e31-68e71d429677"
      },
      "execution_count": 17,
      "outputs": [
        {
          "output_type": "stream",
          "name": "stdout",
          "text": [
            "accept Ha\n"
          ]
        }
      ]
    },
    {
      "cell_type": "markdown",
      "source": [
        "#T-Test\n",
        "necessary things:\n",
        "data:- normal distribution\n",
        "1. population mean\n",
        "2. sample mean\n",
        "3. sample std\n",
        "4. no of sample <30\n",
        "\n",
        "formula: T-test= (x̄-μ)/(σ/√n)\n",
        "\n",
        "x̄=sample mean\n",
        "\n",
        " μ= Population mean\n",
        " σ= sample standard deviation\n",
        " n=Sample size<30\n"
      ],
      "metadata": {
        "id": "_GlNGmDtCR9x"
      }
    },
    {
      "cell_type": "markdown",
      "source": [
        "**Example 1:**\n",
        "\n",
        "A manufacturer claims that the average weight of a bag of potato chips is 150 grams. A sample of 25 bags is taken, and the average weight is found to be 148 grams, with a standard deviation of 5 grams. Test the manufacturer's claim using a one-tailed t-test with a significance level of 0.05.\n",
        "\n",
        "μ=150\n",
        "x̄=148,\n",
        "n=25\n",
        "std_s=5\n",
        "\n",
        "h0 says u=150gm\n",
        "ha says u<150gm\n",
        "\n",
        "in this the Ha is left-tailed normal distribution graph\n",
        "\n",
        "pahila df nikalna parxa = degree of freedom =n-1=25-1=24\n",
        "thus , t value =1.711"
      ],
      "metadata": {
        "id": "eBTn21_IGVPs"
      }
    },
    {
      "cell_type": "code",
      "source": [
        "import scipy.stats as st\n"
      ],
      "metadata": {
        "id": "ogzkThx_AWCk"
      },
      "execution_count": 18,
      "outputs": []
    },
    {
      "cell_type": "code",
      "source": [
        "t_table=st.t.ppf(0.05,24)\n",
        "t_table"
      ],
      "metadata": {
        "colab": {
          "base_uri": "https://localhost:8080/"
        },
        "id": "tiFA1B35KEgl",
        "outputId": "70786979-fc72-401c-d4dd-c2989b502074"
      },
      "execution_count": 19,
      "outputs": [
        {
          "output_type": "execute_result",
          "data": {
            "text/plain": [
              "np.float64(-1.7108820799094282)"
            ]
          },
          "metadata": {},
          "execution_count": 19
        }
      ]
    },
    {
      "cell_type": "markdown",
      "source": [
        "now t calculated"
      ],
      "metadata": {
        "id": "t1pGeoI9KYBN"
      }
    },
    {
      "cell_type": "code",
      "source": [
        "t_cal= (148-150)/(5/25**0.5)\n",
        "t_cal"
      ],
      "metadata": {
        "colab": {
          "base_uri": "https://localhost:8080/"
        },
        "id": "W7ERKQANKQOo",
        "outputId": "6c1fb33b-6446-4e07-a6f0-763a21a68c64"
      },
      "execution_count": 21,
      "outputs": [
        {
          "output_type": "execute_result",
          "data": {
            "text/plain": [
              "-2.0"
            ]
          },
          "metadata": {},
          "execution_count": 21
        }
      ]
    },
    {
      "cell_type": "code",
      "source": [
        "if t_cal<t_table:\n",
        "    print(\"accept Ha\")\n",
        "else:\n",
        "    print(\"accept H0\")"
      ],
      "metadata": {
        "colab": {
          "base_uri": "https://localhost:8080/"
        },
        "id": "-F7YTT7qKvnS",
        "outputId": "8990a302-6c47-487e-839c-e525104169ed"
      },
      "execution_count": 22,
      "outputs": [
        {
          "output_type": "stream",
          "name": "stdout",
          "text": [
            "accept Ha\n"
          ]
        }
      ]
    },
    {
      "cell_type": "markdown",
      "source": [
        "i.e. company is wrong."
      ],
      "metadata": {
        "id": "wouKAEZrLEjh"
      }
    },
    {
      "cell_type": "markdown",
      "source": [
        "**example 2**\n",
        "\n",
        "A company wants to test whether there is a difference in productivity between two teams. They randomly select 20 employees from each team and record their productivity scores. The mean productivity score for Team A is 80 with a standard deviation of 5, while the mean productivity score for Team B is 75 with a standard deviation of 6. Test at a 5% level of significance whether there is a difference in productivity between the two teams.\n",
        "\n",
        "formula:\n",
        "t-test=((Xa-Xb)-(Ua-Ub))/sqrt(stda^2/Na+stdb^2/Nb)\n",
        "\n",
        "Hypothesis testing:\n",
        "H0:-Pa-Pb=0\n",
        "Ha:- Pa-Pb ≠ 0\n",
        "we will use 2 tailes test as we have used ≠ so\n",
        "alpa= 0.05 as its talking about 5%\n",
        "\n",
        "df=degree of freedom= 20+20-2 =38\n",
        "\n",
        "as it is 2tailed so alpha =0.05/2="
      ],
      "metadata": {
        "id": "nqxCjfi7LRco"
      }
    },
    {
      "cell_type": "code",
      "source": [
        "import scipy.stats as st"
      ],
      "metadata": {
        "id": "URpDeIaLN2NH"
      },
      "execution_count": 23,
      "outputs": []
    },
    {
      "cell_type": "code",
      "source": [
        "t_table=st.t.ppf(1-0.05/2,38)\n",
        "t_table"
      ],
      "metadata": {
        "colab": {
          "base_uri": "https://localhost:8080/"
        },
        "id": "q_rXmFMILC31",
        "outputId": "652af13c-5e23-44ca-9a6e-3a6ab2a59fce"
      },
      "execution_count": 28,
      "outputs": [
        {
          "output_type": "execute_result",
          "data": {
            "text/plain": [
              "np.float64(2.024394163911969)"
            ]
          },
          "metadata": {},
          "execution_count": 28
        }
      ]
    },
    {
      "cell_type": "code",
      "source": [
        "t_cal=(80-75)/(25/20+36/20)**0.5\n",
        "t_cal"
      ],
      "metadata": {
        "colab": {
          "base_uri": "https://localhost:8080/"
        },
        "id": "RCDiywJPO-8I",
        "outputId": "5415cc8e-552b-46da-91c6-3bb7d8921506"
      },
      "execution_count": 27,
      "outputs": [
        {
          "output_type": "execute_result",
          "data": {
            "text/plain": [
              "2.862991671569341"
            ]
          },
          "metadata": {},
          "execution_count": 27
        }
      ]
    },
    {
      "cell_type": "markdown",
      "source": [
        "for 2-Tailed normal distribution"
      ],
      "metadata": {
        "id": "yF0T05BjQ5ft"
      }
    },
    {
      "cell_type": "code",
      "source": [
        "if abs(t_cal) > t_table:\n",
        "    print(\"Reject H0 → Accept Ha (There is a significant difference)\")\n",
        "else:\n",
        "    print(\"Fail to Reject H0 → Accept H0 (No significant difference)\")\n"
      ],
      "metadata": {
        "colab": {
          "base_uri": "https://localhost:8080/"
        },
        "id": "ucsnWSpgPYpo",
        "outputId": "67d7ee35-b3d4-4ca9-a628-8bd8b69da1d4"
      },
      "execution_count": 29,
      "outputs": [
        {
          "output_type": "stream",
          "name": "stdout",
          "text": [
            "Reject H0 → Accept Ha (There is a significant difference)\n"
          ]
        }
      ]
    },
    {
      "cell_type": "code",
      "source": [],
      "metadata": {
        "id": "eQDYUDa6Su_q"
      },
      "execution_count": null,
      "outputs": []
    },
    {
      "cell_type": "markdown",
      "source": [
        "Example 3:\n",
        "\n",
        "A company wants to test whether a new training program Improves the typing speed of its employees. The typing speed of 20 employees was recorded before and after the training program. The data is given below. Test at a 5% level of significance whether the training program has an effect on the typing speed of the employees\n",
        "\n",
        "Before: 50, 60, 45, 65, 55, 70, 40, 75, 80, 65, 70, 60, 50, 55, 45, 75, 60, 50,\n",
        "65,70\n",
        "\n",
        "After: 60, 70, 55, 75, 65, 80, 50, 85, 90, 70, 75, 65, 55, 60, 50, 80, 65, 55, 70,65\n",
        "\n",
        "soln: definitely 2-Tailed test\n",
        "alpha =0.025\n",
        "hypothesis testing:\n",
        "H0, Tb-Ta=0\n",
        "Ha, Tb-Ta ≠0\n",
        "\n",
        "formula:\n",
        "t-test=((Xa-Xb)-(Ua-Ub))/sqrt(stda^2/Na+stdb^2/Nb)\n",
        "\n",
        "df= degree of freedom =20-1=19, we took only 20 as we are testing on same 1 dataset\n"
      ],
      "metadata": {
        "id": "23PrSPwqRmko"
      }
    },
    {
      "cell_type": "code",
      "source": [
        "import scipy.stats as st\n",
        "import numpy as np"
      ],
      "metadata": {
        "id": "X9pCMvOqRFuB"
      },
      "execution_count": 32,
      "outputs": []
    },
    {
      "cell_type": "code",
      "source": [
        "t_table=st.t.ppf(1-0.025, 19)\n",
        "t_table"
      ],
      "metadata": {
        "colab": {
          "base_uri": "https://localhost:8080/"
        },
        "id": "Sn-dkChSWe1A",
        "outputId": "59434be4-304c-4e0c-ad8d-756294241f34"
      },
      "execution_count": 34,
      "outputs": [
        {
          "output_type": "execute_result",
          "data": {
            "text/plain": [
              "np.float64(2.093024054408263)"
            ]
          },
          "metadata": {},
          "execution_count": 34
        }
      ]
    },
    {
      "cell_type": "code",
      "source": [
        "Before=np.array([50, 60, 45, 65, 55, 70, 40, 75, 80, 65, 70, 60, 50, 55, 45, 75, 60, 50, 65,70])\n",
        "\n",
        "After=np.array([60, 70, 55, 75, 65, 80, 50, 85, 90, 70, 75, 65, 55, 60, 50, 80, 65, 55, 70,65])\n",
        "\n"
      ],
      "metadata": {
        "id": "iBsgCctyW2kQ"
      },
      "execution_count": 36,
      "outputs": []
    },
    {
      "cell_type": "code",
      "source": [
        "n1 = len(Before)\n",
        "n2 = len(After)"
      ],
      "metadata": {
        "id": "-97GgSOFZwmq"
      },
      "execution_count": 40,
      "outputs": []
    },
    {
      "cell_type": "code",
      "source": [
        "t_cal = (np.mean(After) - np.mean(Before)) / np.sqrt((np.std(After, ddof=1)**2)/n2 + (np.std(Before, ddof=1)**2)/n1)\n",
        "t_cal"
      ],
      "metadata": {
        "colab": {
          "base_uri": "https://localhost:8080/"
        },
        "id": "-fPbd6jaY8E1",
        "outputId": "3967ead3-3fa6-4c73-8667-5d3853abb164"
      },
      "execution_count": 41,
      "outputs": [
        {
          "output_type": "execute_result",
          "data": {
            "text/plain": [
              "np.float64(1.880938870480048)"
            ]
          },
          "metadata": {},
          "execution_count": 41
        }
      ]
    },
    {
      "cell_type": "code",
      "source": [
        "if abs(t_cal) > t_table:\n",
        "    print(\"Reject H0 → Accept Ha (There is a significant difference)\")\n",
        "else:\n",
        "    print(\"Fail to Reject H0 → Accept H0 (No significant difference)\")\n"
      ],
      "metadata": {
        "colab": {
          "base_uri": "https://localhost:8080/"
        },
        "id": "rZ9XX-pAZovB",
        "outputId": "4f45f258-21e2-461e-932c-4e27244e5c5c"
      },
      "execution_count": 42,
      "outputs": [
        {
          "output_type": "stream",
          "name": "stdout",
          "text": [
            "Fail to Reject H0 → Accept H0 (No significant difference)\n"
          ]
        }
      ]
    },
    {
      "cell_type": "code",
      "source": [],
      "metadata": {
        "id": "NyIX07e5aHIi"
      },
      "execution_count": null,
      "outputs": []
    }
  ]
}