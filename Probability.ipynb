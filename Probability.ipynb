{
  "nbformat": 4,
  "nbformat_minor": 0,
  "metadata": {
    "colab": {
      "provenance": [],
      "authorship_tag": "ABX9TyMUUlhDoY9zX065KOLBzVU+",
      "include_colab_link": true
    },
    "kernelspec": {
      "name": "python3",
      "display_name": "Python 3"
    },
    "language_info": {
      "name": "python"
    }
  },
  "cells": [
    {
      "cell_type": "markdown",
      "metadata": {
        "id": "view-in-github",
        "colab_type": "text"
      },
      "source": [
        "<a href=\"https://colab.research.google.com/github/chandani1001/my-DataSciencePractice/blob/main/Probability.ipynb\" target=\"_parent\"><img src=\"https://colab.research.google.com/assets/colab-badge.svg\" alt=\"Open In Colab\"/></a>"
      ]
    },
    {
      "cell_type": "markdown",
      "source": [
        "# Random Variable\n",
        "- a random variable X is a function that assigns a real number to each outcome in the sample space of a experiment."
      ],
      "metadata": {
        "id": "gKcpWJ7W3pfB"
      }
    },
    {
      "cell_type": "markdown",
      "source": [
        "\n",
        "\n",
        "1.   Descrite Random Variable eg:rolling a dice\n",
        "2.   Continous Random Variable eg: ans in range[1foot to 6 feet]\n",
        "\n"
      ],
      "metadata": {
        "id": "vzZWT3vSP9Tn"
      }
    },
    {
      "cell_type": "markdown",
      "source": [
        "# Probability\n",
        "Probability measures the likelihood of a particular outcome or event occurring. It is typically expressed as a number between 0 and 1, where 0 indicates impossibility (event will not occur) and 1 indicates certainty (event will occur).\n",
        "\n",
        "P(A) = Number of times A occurs/ Total number of possible outcomes"
      ],
      "metadata": {
        "id": "y9AifhwQRlaT"
      }
    },
    {
      "cell_type": "code",
      "execution_count": null,
      "metadata": {
        "id": "LjABbfa83Ig4"
      },
      "outputs": [],
      "source": []
    }
  ]
}