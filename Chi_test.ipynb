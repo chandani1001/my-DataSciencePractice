{
  "nbformat": 4,
  "nbformat_minor": 0,
  "metadata": {
    "colab": {
      "provenance": [],
      "authorship_tag": "ABX9TyNs4mw/3eucNaI2F5N1CDC5",
      "include_colab_link": true
    },
    "kernelspec": {
      "name": "python3",
      "display_name": "Python 3"
    },
    "language_info": {
      "name": "python"
    }
  },
  "cells": [
    {
      "cell_type": "markdown",
      "metadata": {
        "id": "view-in-github",
        "colab_type": "text"
      },
      "source": [
        "<a href=\"https://colab.research.google.com/github/chandani1001/my-DataSciencePractice/blob/main/Chi_test.ipynb\" target=\"_parent\"><img src=\"https://colab.research.google.com/assets/colab-badge.svg\" alt=\"Open In Colab\"/></a>"
      ]
    },
    {
      "cell_type": "markdown",
      "source": [
        "# Chi square test\n",
        "\n",
        "Application in 2 types of situations.\n",
        "\n",
        "*   Goodness   \n",
        "*   Independence\n",
        "\n",
        "Chi Square test:\n",
        "\n",
        "Formula\n",
        "X^2= ∑ (Oi-Ei)^2/Ei\n",
        "\n",
        "X^2\t=\tchi squared\n",
        "Oi\t=\tobserved value\n",
        "Ei\t=\texpected value\n",
        "\n"
      ],
      "metadata": {
        "id": "u0cbbXIILpuY"
      }
    },
    {
      "cell_type": "markdown",
      "source": [
        "**Example 1:**\n",
        "\n",
        "A fair die is rolled 120 times and the following results are obtained:\n",
        "    \n",
        "Face 1: 22 times\n",
        "\n",
        "Face 2: 17 times\n",
        "\n",
        "Face 3: 20 times\n",
        "\n",
        "Face 4: 26 times\n",
        "\n",
        "Face 5: 22 times\n",
        "\n",
        "Face 6: 13 times\n",
        "\n",
        "Test at a 5% level of significance whether the die is fair."
      ],
      "metadata": {
        "id": "YStrCkY4OCou"
      }
    },
    {
      "cell_type": "markdown",
      "source": [
        "soln:\n",
        "expected times be 20 per every face\n",
        "\n",
        "H0 dide is fair,\n",
        "Ha die is not fair\n",
        "let the alpha = 0.05 as 5% significance & it is 1 tailed normal distribution.\n",
        "\n",
        "Also ask for df(degree of freedom)=n-1=6-1=5\n",
        "\n",
        "now from the chi square table:\n",
        "\n",
        "chi_table=11.07\n",
        "\n",
        "now chi_cal=∑ (Oi-Ei)^2/Ei"
      ],
      "metadata": {
        "id": "qU1o64_UOc3p"
      }
    },
    {
      "cell_type": "code",
      "execution_count": 9,
      "metadata": {
        "id": "wgI5PLg_ad3C"
      },
      "outputs": [],
      "source": [
        "import numpy as np\n",
        "import scipy.stats as st"
      ]
    },
    {
      "cell_type": "code",
      "source": [
        "ob=np.array([22,17,20,26,22,13])\n",
        "ex=np.array([20,20,20,20,20,20])"
      ],
      "metadata": {
        "id": "WOotuHuxFnFI"
      },
      "execution_count": 10,
      "outputs": []
    },
    {
      "cell_type": "code",
      "source": [
        "chi_table=st.chi2.ppf(0.95,5)\n",
        "chi_table"
      ],
      "metadata": {
        "colab": {
          "base_uri": "https://localhost:8080/"
        },
        "id": "ZnHUCPOJJpZX",
        "outputId": "f2f64c4a-e5ed-461b-f722-2bec8f7bb6fe"
      },
      "execution_count": 12,
      "outputs": [
        {
          "output_type": "execute_result",
          "data": {
            "text/plain": [
              "np.float64(11.070497693516351)"
            ]
          },
          "metadata": {},
          "execution_count": 12
        }
      ]
    },
    {
      "cell_type": "code",
      "source": [
        "chi_cal=np.sum(np.square(ob-ex)/ex)\n",
        "chi_cal"
      ],
      "metadata": {
        "colab": {
          "base_uri": "https://localhost:8080/"
        },
        "id": "8EcxhNVFGs5Q",
        "outputId": "f25aabc5-88fe-4155-ffa2-0867061e93a9"
      },
      "execution_count": 11,
      "outputs": [
        {
          "output_type": "execute_result",
          "data": {
            "text/plain": [
              "np.float64(5.1000000000000005)"
            ]
          },
          "metadata": {},
          "execution_count": 11
        }
      ]
    },
    {
      "cell_type": "markdown",
      "source": [
        "Chi_cal= 5.100\n",
        "\n",
        "Decision Rule:\n",
        "\n",
        "If χ²_cal > χ²_table → Reject H₀\n",
        "\n",
        "If χ²_cal ≤ χ²_table → Fail to Reject H₀\n",
        "\n",
        "\n"
      ],
      "metadata": {
        "id": "aW3AxkRHHelz"
      }
    },
    {
      "cell_type": "code",
      "source": [
        "if chi_cal > chi_table:\n",
        "    print(\"Reject H₀ → The die is not fair.\")\n",
        "else:\n",
        "    print(\"Fail to Reject H₀ → The die is fair.\")"
      ],
      "metadata": {
        "colab": {
          "base_uri": "https://localhost:8080/"
        },
        "id": "W0JybVOiHLYK",
        "outputId": "2c9f874e-be3a-4931-b9ea-01633a2907da"
      },
      "execution_count": 13,
      "outputs": [
        {
          "output_type": "stream",
          "name": "stdout",
          "text": [
            "Fail to Reject H₀ → The die is fair.\n"
          ]
        }
      ]
    },
    {
      "cell_type": "markdown",
      "source": [
        "**Example 2:**\n",
        "\n",
        "A study was conducted to investigate whether there is a relationship between gender and the preferred genre of music. A sample of 235 people was selected, and the data collected is shown below. Test at a 5% level of significance whether there is a significant association between gender and music preference.\n",
        "\n",
        "sn.   Pop,Hip Hop,Classical,Rock\n",
        "\n",
        "Male:40,  45,   25,      10\n",
        "\n",
        "Female:35, 30,  20,       30\n",
        "\n"
      ],
      "metadata": {
        "id": "jHkwzVSxKkmI"
      }
    },
    {
      "cell_type": "markdown",
      "source": [
        "Soln:\n",
        "H0: No association\n",
        "Ha: association\n",
        "\n",
        "alpha=0.05\n",
        "df=(row-1)(col-1)=(2-1)(4-1)=3"
      ],
      "metadata": {
        "id": "ctHhneR_NYjc"
      }
    },
    {
      "cell_type": "code",
      "source": [
        "import scipy.stats as st\n",
        "import numpy as np"
      ],
      "metadata": {
        "id": "n8W4K3ZiJ-Se"
      },
      "execution_count": 14,
      "outputs": []
    },
    {
      "cell_type": "code",
      "source": [
        "chi_table= st.chi2.ppf(1-0.05,3)\n",
        "chi_table"
      ],
      "metadata": {
        "colab": {
          "base_uri": "https://localhost:8080/"
        },
        "id": "RPOuSOUuOd2h",
        "outputId": "947fc875-448e-4921-b644-0052d021324f"
      },
      "execution_count": 15,
      "outputs": [
        {
          "output_type": "execute_result",
          "data": {
            "text/plain": [
              "np.float64(7.814727903251179)"
            ]
          },
          "metadata": {},
          "execution_count": 15
        }
      ]
    },
    {
      "cell_type": "code",
      "source": [
        "row1=np.array([40, 45, 25, 10])\n",
        "row2=np.array([35, 30, 20, 30])"
      ],
      "metadata": {
        "id": "-xyDa11HO2w8"
      },
      "execution_count": 16,
      "outputs": []
    },
    {
      "cell_type": "code",
      "source": [
        "sum_r1=np.sum(row1)\n",
        "sum_r2=np.sum(row2)\n",
        "sum_r1,sum_r2\n",
        "sum_row=np.array([sum_r1,sum_r2])\n",
        "sum_row"
      ],
      "metadata": {
        "colab": {
          "base_uri": "https://localhost:8080/"
        },
        "id": "rTcWiNAoQHrW",
        "outputId": "0994ebd1-0831-4725-e9cb-243cbfa94d9f"
      },
      "execution_count": 22,
      "outputs": [
        {
          "output_type": "execute_result",
          "data": {
            "text/plain": [
              "array([120, 115])"
            ]
          },
          "metadata": {},
          "execution_count": 22
        }
      ]
    },
    {
      "cell_type": "code",
      "source": [
        "sum_col= row1+ row2\n",
        "sum_col"
      ],
      "metadata": {
        "colab": {
          "base_uri": "https://localhost:8080/"
        },
        "id": "cOJmzDA2QWt1",
        "outputId": "bf3e09ca-4784-414a-a829-3581774a36f3"
      },
      "execution_count": 19,
      "outputs": [
        {
          "output_type": "execute_result",
          "data": {
            "text/plain": [
              "array([75, 75, 45, 40])"
            ]
          },
          "metadata": {},
          "execution_count": 19
        }
      ]
    },
    {
      "cell_type": "markdown",
      "source": [
        "now we are finding the expected value."
      ],
      "metadata": {
        "id": "_kRqUhGDVBpb"
      }
    },
    {
      "cell_type": "code",
      "source": [
        "exp=[]\n",
        "for i in sum_row:\n",
        "  for j in sum_col:\n",
        "    value=(i*j)/235\n",
        "    exp.append(value)"
      ],
      "metadata": {
        "id": "lKqgND6DQqnY"
      },
      "execution_count": 26,
      "outputs": []
    },
    {
      "cell_type": "code",
      "source": [
        "exp"
      ],
      "metadata": {
        "colab": {
          "base_uri": "https://localhost:8080/"
        },
        "id": "4fca3jrwRr0v",
        "outputId": "b5bf260b-cf72-4b61-bfe7-224e63c57e17"
      },
      "execution_count": 27,
      "outputs": [
        {
          "output_type": "execute_result",
          "data": {
            "text/plain": [
              "[np.float64(38.297872340425535),\n",
              " np.float64(38.297872340425535),\n",
              " np.float64(22.97872340425532),\n",
              " np.float64(20.425531914893618),\n",
              " np.float64(36.702127659574465),\n",
              " np.float64(36.702127659574465),\n",
              " np.float64(22.02127659574468),\n",
              " np.float64(19.574468085106382)]"
            ]
          },
          "metadata": {},
          "execution_count": 27
        }
      ]
    },
    {
      "cell_type": "code",
      "source": [
        "obj= np.array([40, 45, 25, 10,35, 30, 20, 30])\n",
        "obj"
      ],
      "metadata": {
        "colab": {
          "base_uri": "https://localhost:8080/"
        },
        "id": "p6fE_p94UoJP",
        "outputId": "82f59930-1465-4f56-e123-28445fa8c5ca"
      },
      "execution_count": 28,
      "outputs": [
        {
          "output_type": "execute_result",
          "data": {
            "text/plain": [
              "array([40, 45, 25, 10, 35, 30, 20, 30])"
            ]
          },
          "metadata": {},
          "execution_count": 28
        }
      ]
    },
    {
      "cell_type": "code",
      "source": [
        "chi_cal=np.sum(np.square(obj-exp)/exp)\n",
        "chi_cal"
      ],
      "metadata": {
        "colab": {
          "base_uri": "https://localhost:8080/"
        },
        "id": "q-vb598jU9ue",
        "outputId": "8343af76-773d-4dcd-b602-202872d0b313"
      },
      "execution_count": 33,
      "outputs": [
        {
          "output_type": "execute_result",
          "data": {
            "text/plain": [
              "np.float64(13.788747987117553)"
            ]
          },
          "metadata": {},
          "execution_count": 33
        }
      ]
    },
    {
      "cell_type": "code",
      "source": [
        "if chi_cal > chi_table:\n",
        "    print(\"Reject H₀ → There is a significant association between gender and music preference.\")\n",
        "else:\n",
        "    print(\"Fail to Reject H₀ → There is no significant association between gender and music preference.\")"
      ],
      "metadata": {
        "colab": {
          "base_uri": "https://localhost:8080/"
        },
        "id": "_oJUwHayVVix",
        "outputId": "51e69702-35a5-4946-df2e-0f0137445c9a"
      },
      "execution_count": 34,
      "outputs": [
        {
          "output_type": "stream",
          "name": "stdout",
          "text": [
            "Reject H₀ → There is a significant association between gender and music preference.\n"
          ]
        }
      ]
    },
    {
      "cell_type": "code",
      "source": [],
      "metadata": {
        "id": "gnes9H50V2lf"
      },
      "execution_count": null,
      "outputs": []
    }
  ]
}