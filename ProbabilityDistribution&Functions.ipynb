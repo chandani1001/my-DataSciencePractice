{
  "nbformat": 4,
  "nbformat_minor": 0,
  "metadata": {
    "colab": {
      "provenance": [],
      "authorship_tag": "ABX9TyNs1zjjzKbX9fjlehEmqmC6",
      "include_colab_link": true
    },
    "kernelspec": {
      "name": "python3",
      "display_name": "Python 3"
    },
    "language_info": {
      "name": "python"
    }
  },
  "cells": [
    {
      "cell_type": "markdown",
      "metadata": {
        "id": "view-in-github",
        "colab_type": "text"
      },
      "source": [
        "<a href=\"https://colab.research.google.com/github/chandani1001/my-DataSciencePractice/blob/main/ProbabilityDistribution%26Functions.ipynb\" target=\"_parent\"><img src=\"https://colab.research.google.com/assets/colab-badge.svg\" alt=\"Open In Colab\"/></a>"
      ]
    },
    {
      "cell_type": "markdown",
      "source": [
        "# Probability Distribution\n",
        "    Probability distributions describe how the probabilities of different outcomes are distributed over the sample space of a random variable.\n",
        "\n",
        "1.Discrete Probability Distributions\n",
        "2.Continuous Probability Distributions"
      ],
      "metadata": {
        "id": "Ct65v49QT8Di"
      }
    },
    {
      "cell_type": "markdown",
      "source": [
        "# Probability Distribution Function\n",
        "--A probability distribution is the mathematical function that gives the probabilities of occurrene of different possible outcomes for an experiment.\n",
        "\n",
        "for a dice:\n",
        "p{1/6,1/6,1/6,1/6,1/6,1/6}\n",
        "for this we got it from the manual way:\n",
        "\n",
        "we instead use these function for the large data\n",
        "**PDF,PMF & CDF**\n",
        "\n",
        "\n",
        "*   PDF: probability density function -- continous data ma banauxam, yaxis act like density\n",
        "*   PMF: probability mass function--- if data is descreate nature.\n",
        "*   CDF: cumulative density function--- for such a cumulative data, range ko agadi walh & pixe walah\n",
        "\n",
        "\n",
        "\n",
        "\n"
      ],
      "metadata": {
        "id": "CUeEHwQdXExZ"
      }
    },
    {
      "cell_type": "markdown",
      "source": [
        "# Normal Distribution:\n",
        "it is known as the gaussian distribution, is a probability distribution that is symmetric about the mean, showing that data near the mean are more frequent in occurrence than data far from the mean.\n",
        "\n",
        "in the graph form, normal distribution will appear as a bell curve.\n",
        "\n",
        "--Mean is the center part.\n",
        "then comes the ist std==66.26%\n",
        "then comes 2nd std=95.72%\n",
        "then comes 3rd std= 99.72%\n",
        "\n"
      ],
      "metadata": {
        "id": "tmZ9JJjfkWP5"
      }
    },
    {
      "cell_type": "markdown",
      "source": [
        "# Standard normal Distribution:\n",
        "\n",
        "The standard normal distribution, also known as the Z distribution or Z-score, is a special distribution. case of the normal\n",
        "\n",
        "then\n",
        "\n",
        "mean (μ) of 0 and a standard deviation (6) of 1.\n"
      ],
      "metadata": {
        "id": "Zb3Oip8Hmjf2"
      }
    },
    {
      "cell_type": "code",
      "execution_count": null,
      "metadata": {
        "id": "Vx4SPNGUS9H_"
      },
      "outputs": [],
      "source": []
    },
    {
      "cell_type": "markdown",
      "source": [
        "** we use frequency distribution** for repition kati xa bujhna lai"
      ],
      "metadata": {
        "id": "LX1djMhOpl7u"
      }
    },
    {
      "cell_type": "code",
      "source": [],
      "metadata": {
        "id": "0bSAEhymseds"
      },
      "execution_count": null,
      "outputs": []
    }
  ]
}